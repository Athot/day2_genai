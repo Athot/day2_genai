{
 "cells": [
  {
   "cell_type": "code",
   "execution_count": 19,
   "metadata": {},
   "outputs": [
    {
     "data": {
      "text/plain": [
       "True"
      ]
     },
     "execution_count": 19,
     "metadata": {},
     "output_type": "execute_result"
    }
   ],
   "source": [
    "import os\n",
    "from dotenv import load_dotenv\n",
    "load_dotenv('myenv\\\\.env')"
   ]
  },
  {
   "cell_type": "code",
   "execution_count": 21,
   "metadata": {},
   "outputs": [],
   "source": [
    "\n",
    "a = os.getenv('find_me')\n",
    "from openai import OpenAI\n",
    "client = OpenAI(api_key = a)\n",
    "llm_model = 'gpt-3.5-turbo'"
   ]
  },
  {
   "cell_type": "code",
   "execution_count": 22,
   "metadata": {},
   "outputs": [],
   "source": [
    "def get_response(propmt,model1='gpt-3.5-turbo'):\n",
    "    response = client.chat.completions.create(\n",
    "        model= model1,\n",
    "        messages=[\n",
    "            {\"role\":\"system\",\"content\":\"You are a helpful person\"},\n",
    "            {\"role\":\"user\",\"content\":propmt}\n",
    "        ]\n",
    "    )\n",
    "\n",
    "    response_message = response.choices[0].message\n",
    "    content = response_message.content\n",
    "    return content\n"
   ]
  },
  {
   "cell_type": "code",
   "execution_count": 23,
   "metadata": {},
   "outputs": [],
   "source": [
    "with open('transcript.txt','r') as f:\n",
    "    data = f.read()\n"
   ]
  },
  {
   "cell_type": "code",
   "execution_count": 24,
   "metadata": {},
   "outputs": [],
   "source": [
    "prompt = f''' The transcript provide is [ {data} ].\n",
    " You need to go through the entire transcript and get the red fruits and green fruits. \n",
    " The response should be in the same format I am presenting below which is basically a json format.\n",
    " The response will basically a list of dictionaries in the below fomat\n",
    " [\n",
    " {{\n",
    "    \"Red_Fruits\":\"the text from the transcript which is containing the Red_Fruits\",\n",
    "    \"Green_Fruits\":\"the text from the transcript which is containing the Green_Fruits\"\n",
    " }}\n",
    " ]\n",
    "'''"
   ]
  },
  {
   "cell_type": "code",
   "execution_count": 25,
   "metadata": {},
   "outputs": [
    {
     "name": "stdout",
     "output_type": "stream",
     "text": [
      "[\n",
      " {\n",
      "    \"Red_Fruits\": [\n",
      "        \"Apple\",\n",
      "        \"Strawberry\",\n",
      "        \"Cherry\",\n",
      "        \"Raspberry\",\n",
      "        \"Red grapes\"\n",
      "    ],\n",
      "    \"Green_Fruits\": [\n",
      "        \"Green apple\",\n",
      "        \"Kiwi\",\n",
      "        \"Honeydew melon\",\n",
      "        \"Grapes (some varieties)\",\n",
      "        \"Lime\"\n",
      "    ]\n",
      " }\n",
      "]\n"
     ]
    }
   ],
   "source": [
    "print(get_response(prompt))"
   ]
  }
 ],
 "metadata": {
  "kernelspec": {
   "display_name": "Python 3",
   "language": "python",
   "name": "python3"
  },
  "language_info": {
   "codemirror_mode": {
    "name": "ipython",
    "version": 3
   },
   "file_extension": ".py",
   "mimetype": "text/x-python",
   "name": "python",
   "nbconvert_exporter": "python",
   "pygments_lexer": "ipython3",
   "version": "3.12.2"
  }
 },
 "nbformat": 4,
 "nbformat_minor": 2
}
